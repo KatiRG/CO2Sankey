{
 "cells": [
  {
   "cell_type": "code",
   "execution_count": 1,
   "metadata": {
    "collapsed": true
   },
   "outputs": [],
   "source": [
    "import pandas as pd\n",
    "import os\n",
    "import collections"
   ]
  },
  {
   "cell_type": "code",
   "execution_count": 2,
   "metadata": {
    "collapsed": true
   },
   "outputs": [],
   "source": [
    "Sources = collections.OrderedDict()\n",
    "Sources['Coal'] = 'coal.csv'\n",
    "Sources['Oil']='oil.csv'   \n",
    "Sources['Gas']='gas.csv'\n",
    "Sources['Gas flaring']='flaring.csv'\n",
    "Sources['Cement']='cement.csv'"
   ]
  },
  {
   "cell_type": "code",
   "execution_count": 3,
   "metadata": {
    "collapsed": false
   },
   "outputs": [],
   "source": [
    "# Those regions are defined following Emissions application http://www.globalcarbonatlas.org\n",
    "# Added 'Lesotho', 'Liechtenstein' that are present in csv file but not in Emissions application\n",
    "# Removed 'Western Sahara' present in Emissions application but not in csv file \n",
    "# Have to define \"C\\xb4te d'Ivoire\" 'R\\xa9union' to be according with the csv file\n",
    "\n",
    "Regions = collections.OrderedDict()\n",
    "\n",
    "Regions['Africa'] = ['Algeria', 'Angola', 'Benin', 'Botswana', 'Burkina Faso', 'Burundi', 'Cape Verde', 'Central African Republic',\n",
    "    'Chad', 'Comoros', 'Congo', \"C\\xf4te d'Ivoire\", 'Democratic Republic of the Congo', 'Djibouti', 'Egypt', \n",
    "    'Equatorial Guinea', 'Eritrea', 'Ethiopia', 'Gabon', 'Gambia', 'Ghana', 'Guinea', 'Guinea-Bissau', 'Kenya', \n",
    "    'Lesotho', 'Liberia', 'Libya', 'Madagascar', 'Malawi', 'Mali', 'Mauritania', 'Mauritius', 'Morocco', 'Mozambique', \n",
    "    'Namibia', 'Niger', 'Nigeria', 'Cameroon', 'R\\xe9union', 'Rwanda', 'Sao Tome and Principe', 'Senegal', \n",
    "    'Seychelles', 'Sierra Leone', 'Somalia', 'South Africa', 'Sudan', 'Swaziland', 'Togo', 'Tunisia', \n",
    "    'Uganda', 'Tanzania', 'Zambia', 'Zimbabwe']\n",
    "\n",
    "Regions['Asia'] = ['Afghanistan', 'Armenia', 'Azerbaijan', 'Bangladesh', 'Bhutan', 'Brunei Darussalam', 'Cambodia', 'China', \n",
    "    'North Korea', 'Georgia', 'Hong Kong', 'India', 'Indonesia', 'Japan', 'Kazakhstan', 'Kyrgyzstan', 'Laos', \n",
    "    'Macao', 'Malaysia', 'Maldives', 'Mongolia', 'Myanmar', 'Nepal', 'Pakistan', 'Papua New Guinea', \n",
    "    'Philippines', 'South Korea', 'Singapore', 'Sri Lanka', 'Taiwan', 'Tajikistan', 'Thailand', 'Timor-Leste', \n",
    "    'Turkmenistan', 'Uzbekistan', 'Viet Nam']\n",
    "\n",
    "Regions['Central America'] = ['Anguilla', 'Antigua and Barbuda', 'Aruba', 'Bahamas', 'Barbados', 'Belize', 'Bermuda', 'British Virgin Islands', \n",
    "    'Cayman Islands', 'Costa Rica', 'Cuba', 'Dominica', 'Dominican Republic', 'El Salvador', 'Grenada', 'Guadeloupe',\n",
    "    'Guatemala', 'Haiti', 'Honduras', 'Jamaica', 'Martinique', 'Montserrat', 'Netherlands Antilles', 'Nicaragua', \n",
    "    'Panama', 'Saint Helena', 'Saint Lucia', 'Saint Kitts and Nevis', 'Saint Vincent and the Grenadines', \n",
    "    'Trinidad and Tobago', 'Turks and Caicos Islands']\n",
    "\n",
    "Regions['Europe'] = ['Albania', 'Andorra', 'Austria', 'Belarus', 'Belgium', 'Bosnia and Herzegovina', \n",
    "    'Bulgaria', 'Croatia', 'Cyprus', 'Czech Republic', 'Denmark', 'Estonia', 'Faeroe Islands', \n",
    "    'Finland', 'France', 'Germany', 'Gibraltar', 'Greece', 'Hungary', 'Iceland', 'Ireland', 'Italy', 'Latvia', \n",
    "    'Liechtenstein', 'Lithuania', 'Luxembourg', 'Macedonia (Republic of)', 'Malta', 'Montenegro', 'Netherlands', \n",
    "    'Norway', 'Poland', 'Portugal', 'Moldova', 'Romania', 'Russian Federation', 'Serbia', 'Slovakia', \n",
    "    'Slovenia', 'Spain', 'Sweden', 'Switzerland', 'Ukraine', 'United Kingdom']\n",
    "\n",
    "Regions['Middle East'] = ['Bahrain', 'Iraq', 'Iran', 'Israel', 'Jordan', 'Kuwait', 'Lebanon', 'Occupied Palestinian Territory',\n",
    "    'Oman', 'Qatar', 'Saudi Arabia', 'Syria', 'Turkey', 'United Arab Emirates', 'Yemen']\n",
    "\n",
    "Regions['North America'] = ['Canada', 'Greenland', 'Mexico', 'Saint Pierre and Miquelon', 'United States of America']\n",
    "\n",
    "Regions['Oceania'] = ['Australia', 'Cook Islands', 'Micronesia (Federated States of)', 'Fiji', 'French Polynesia', \n",
    "    'Kiribati', 'Marshall Islands', 'Nauru', 'New Caledonia', 'New Zealand', 'Niue', 'Palau', \n",
    "    'Samoa', 'Solomon Islands', 'Tonga', 'Vanuatu', 'Wallis and Futuna Islands']\n",
    "\n",
    "Regions['South America'] = ['Argentina', 'Brazil', 'Chile', 'Colombia', 'Ecuador', 'Falkland Islands (Malvinas)', \n",
    "    'French Guiana', 'Guyana', 'Paraguay', 'Peru', 'Bolivia', 'Suriname', 'Uruguay', 'Venezuela']\n",
    "\n",
    "World = Regions['Africa'] + \\\n",
    "        Regions['Asia'] + \\\n",
    "        Regions['Central America'] + \\\n",
    "        Regions['Europe'] + \\\n",
    "        Regions['Middle East'] + \\\n",
    "        Regions['North America'] + \\\n",
    "        Regions['Oceania'] + \\\n",
    "        Regions['South America']\n",
    "\n",
    "# merge some regions\n",
    "Regions['South and Central America'] = Regions['Central America'] + Regions['South America']     \n",
    "del Regions['Central America']\n",
    "del Regions['South America']\n",
    "        \n",
    "Others = ['KP Annex B', 'Non KP Annex B', 'OECD', 'Non-OECD', 'EU28', 'Statistical Difference', 'World']"
   ]
  },
  {
   "cell_type": "code",
   "execution_count": 4,
   "metadata": {
    "collapsed": false
   },
   "outputs": [
    {
     "data": {
      "text/html": [
       "<div>\n",
       "<table border=\"1\" class=\"dataframe\">\n",
       "  <thead>\n",
       "    <tr style=\"text-align: right;\">\n",
       "      <th></th>\n",
       "      <th>Afghanistan</th>\n",
       "      <th>Africa</th>\n",
       "      <th>Albania</th>\n",
       "      <th>Algeria</th>\n",
       "      <th>Andorra</th>\n",
       "      <th>Angola</th>\n",
       "      <th>Anguilla</th>\n",
       "      <th>Antigua and Barbuda</th>\n",
       "      <th>Argentina</th>\n",
       "      <th>Armenia</th>\n",
       "      <th>...</th>\n",
       "      <th>Uruguay</th>\n",
       "      <th>Uzbekistan</th>\n",
       "      <th>Vanuatu</th>\n",
       "      <th>Venezuela</th>\n",
       "      <th>Viet Nam</th>\n",
       "      <th>Wallis and Futuna Islands</th>\n",
       "      <th>World</th>\n",
       "      <th>Yemen</th>\n",
       "      <th>Zambia</th>\n",
       "      <th>Zimbabwe</th>\n",
       "    </tr>\n",
       "    <tr>\n",
       "      <th>Source</th>\n",
       "      <th></th>\n",
       "      <th></th>\n",
       "      <th></th>\n",
       "      <th></th>\n",
       "      <th></th>\n",
       "      <th></th>\n",
       "      <th></th>\n",
       "      <th></th>\n",
       "      <th></th>\n",
       "      <th></th>\n",
       "      <th></th>\n",
       "      <th></th>\n",
       "      <th></th>\n",
       "      <th></th>\n",
       "      <th></th>\n",
       "      <th></th>\n",
       "      <th></th>\n",
       "      <th></th>\n",
       "      <th></th>\n",
       "      <th></th>\n",
       "      <th></th>\n",
       "    </tr>\n",
       "  </thead>\n",
       "  <tbody>\n",
       "    <tr>\n",
       "      <th>Coal</th>\n",
       "      <td>4.671400</td>\n",
       "      <td>443.7634</td>\n",
       "      <td>0.204170</td>\n",
       "      <td>0.60207</td>\n",
       "      <td>0.00000</td>\n",
       "      <td>0.00000</td>\n",
       "      <td>0.00000</td>\n",
       "      <td>0.00000</td>\n",
       "      <td>6.1735</td>\n",
       "      <td>0.012963</td>\n",
       "      <td>...</td>\n",
       "      <td>0.00000</td>\n",
       "      <td>10.2022</td>\n",
       "      <td>0.00000</td>\n",
       "      <td>0.77775</td>\n",
       "      <td>86.9441</td>\n",
       "      <td>0.000000</td>\n",
       "      <td>15050.0463</td>\n",
       "      <td>0.0000</td>\n",
       "      <td>0.33106</td>\n",
       "      <td>9.26520</td>\n",
       "    </tr>\n",
       "    <tr>\n",
       "      <th>Oil</th>\n",
       "      <td>8.242500</td>\n",
       "      <td>489.8935</td>\n",
       "      <td>3.612400</td>\n",
       "      <td>53.38390</td>\n",
       "      <td>0.47225</td>\n",
       "      <td>15.64130</td>\n",
       "      <td>0.14236</td>\n",
       "      <td>0.51104</td>\n",
       "      <td>94.8363</td>\n",
       "      <td>0.905740</td>\n",
       "      <td>...</td>\n",
       "      <td>7.09240</td>\n",
       "      <td>8.9648</td>\n",
       "      <td>0.15477</td>\n",
       "      <td>124.64300</td>\n",
       "      <td>57.6405</td>\n",
       "      <td>0.027779</td>\n",
       "      <td>11847.7270</td>\n",
       "      <td>19.4361</td>\n",
       "      <td>2.37290</td>\n",
       "      <td>2.18910</td>\n",
       "    </tr>\n",
       "    <tr>\n",
       "      <th>Gas</th>\n",
       "      <td>0.309270</td>\n",
       "      <td>229.5443</td>\n",
       "      <td>0.025914</td>\n",
       "      <td>76.41210</td>\n",
       "      <td>0.00000</td>\n",
       "      <td>1.31730</td>\n",
       "      <td>0.00000</td>\n",
       "      <td>0.00000</td>\n",
       "      <td>95.5671</td>\n",
       "      <td>3.320300</td>\n",
       "      <td>...</td>\n",
       "      <td>0.19969</td>\n",
       "      <td>98.1485</td>\n",
       "      <td>0.00000</td>\n",
       "      <td>59.58600</td>\n",
       "      <td>19.6003</td>\n",
       "      <td>0.000000</td>\n",
       "      <td>6700.7971</td>\n",
       "      <td>1.9681</td>\n",
       "      <td>0.00000</td>\n",
       "      <td>0.00000</td>\n",
       "    </tr>\n",
       "    <tr>\n",
       "      <th>Gas flaring</th>\n",
       "      <td>0.000000</td>\n",
       "      <td>53.3991</td>\n",
       "      <td>0.000000</td>\n",
       "      <td>6.93230</td>\n",
       "      <td>0.00000</td>\n",
       "      <td>13.81690</td>\n",
       "      <td>0.00000</td>\n",
       "      <td>0.00000</td>\n",
       "      <td>0.0000</td>\n",
       "      <td>0.000000</td>\n",
       "      <td>...</td>\n",
       "      <td>0.00000</td>\n",
       "      <td>0.0000</td>\n",
       "      <td>0.00000</td>\n",
       "      <td>17.85830</td>\n",
       "      <td>0.0000</td>\n",
       "      <td>0.000000</td>\n",
       "      <td>230.8320</td>\n",
       "      <td>0.0000</td>\n",
       "      <td>0.00000</td>\n",
       "      <td>0.00000</td>\n",
       "    </tr>\n",
       "    <tr>\n",
       "      <th>Cement</th>\n",
       "      <td>0.017838</td>\n",
       "      <td>78.0755</td>\n",
       "      <td>0.720590</td>\n",
       "      <td>9.96610</td>\n",
       "      <td>0.00000</td>\n",
       "      <td>0.79729</td>\n",
       "      <td>0.00000</td>\n",
       "      <td>0.00000</td>\n",
       "      <td>5.3415</td>\n",
       "      <td>0.258600</td>\n",
       "      <td>...</td>\n",
       "      <td>0.49830</td>\n",
       "      <td>3.5412</td>\n",
       "      <td>0.00000</td>\n",
       "      <td>3.80650</td>\n",
       "      <td>30.2685</td>\n",
       "      <td>0.000000</td>\n",
       "      <td>2060.2521</td>\n",
       "      <td>3.1439</td>\n",
       "      <td>0.69616</td>\n",
       "      <td>0.44701</td>\n",
       "    </tr>\n",
       "  </tbody>\n",
       "</table>\n",
       "<p>5 rows × 231 columns</p>\n",
       "</div>"
      ],
      "text/plain": [
       "             Afghanistan    Africa   Albania   Algeria  Andorra    Angola  \\\n",
       "Source                                                                      \n",
       "Coal            4.671400  443.7634  0.204170   0.60207  0.00000   0.00000   \n",
       "Oil             8.242500  489.8935  3.612400  53.38390  0.47225  15.64130   \n",
       "Gas             0.309270  229.5443  0.025914  76.41210  0.00000   1.31730   \n",
       "Gas flaring     0.000000   53.3991  0.000000   6.93230  0.00000  13.81690   \n",
       "Cement          0.017838   78.0755  0.720590   9.96610  0.00000   0.79729   \n",
       "\n",
       "             Anguilla  Antigua and Barbuda  Argentina   Armenia    ...     \\\n",
       "Source                                                             ...      \n",
       "Coal          0.00000              0.00000     6.1735  0.012963    ...      \n",
       "Oil           0.14236              0.51104    94.8363  0.905740    ...      \n",
       "Gas           0.00000              0.00000    95.5671  3.320300    ...      \n",
       "Gas flaring   0.00000              0.00000     0.0000  0.000000    ...      \n",
       "Cement        0.00000              0.00000     5.3415  0.258600    ...      \n",
       "\n",
       "             Uruguay  Uzbekistan  Vanuatu  Venezuela  Viet Nam  \\\n",
       "Source                                                           \n",
       "Coal         0.00000     10.2022  0.00000    0.77775   86.9441   \n",
       "Oil          7.09240      8.9648  0.15477  124.64300   57.6405   \n",
       "Gas          0.19969     98.1485  0.00000   59.58600   19.6003   \n",
       "Gas flaring  0.00000      0.0000  0.00000   17.85830    0.0000   \n",
       "Cement       0.49830      3.5412  0.00000    3.80650   30.2685   \n",
       "\n",
       "             Wallis and Futuna Islands       World    Yemen   Zambia  Zimbabwe  \n",
       "Source                                                                          \n",
       "Coal                          0.000000  15050.0463   0.0000  0.33106   9.26520  \n",
       "Oil                           0.027779  11847.7270  19.4361  2.37290   2.18910  \n",
       "Gas                           0.000000   6700.7971   1.9681  0.00000   0.00000  \n",
       "Gas flaring                   0.000000    230.8320   0.0000  0.00000   0.00000  \n",
       "Cement                        0.000000   2060.2521   3.1439  0.69616   0.44701  \n",
       "\n",
       "[5 rows x 231 columns]"
      ]
     },
     "execution_count": 4,
     "metadata": {},
     "output_type": "execute_result"
    }
   ],
   "source": [
    "year = 2014\n",
    "# Read all csv files and create a dataframe from selected year and selected fields\n",
    "df = pd.DataFrame()\n",
    "for key in Sources.keys():\n",
    "    df_full = pd.read_csv('files_csv/' + Sources[key], delimiter=';', index_col=0)\n",
    "    df_select = df_full.loc[year][:]\n",
    "    df_select['Source'] = key\n",
    "    df = df.append(df_select)\n",
    "df.set_index('Source', inplace=True)\n",
    "df"
   ]
  },
  {
   "cell_type": "code",
   "execution_count": 5,
   "metadata": {
    "collapsed": false,
    "scrolled": true
   },
   "outputs": [
    {
     "data": {
      "text/html": [
       "<div>\n",
       "<table border=\"1\" class=\"dataframe\">\n",
       "  <thead>\n",
       "    <tr style=\"text-align: right;\">\n",
       "      <th></th>\n",
       "      <th>Africa</th>\n",
       "      <th>Asia</th>\n",
       "      <th>Europe</th>\n",
       "      <th>Middle East</th>\n",
       "      <th>North America</th>\n",
       "      <th>Oceania</th>\n",
       "      <th>South and Central America</th>\n",
       "    </tr>\n",
       "    <tr>\n",
       "      <th>Source</th>\n",
       "      <th></th>\n",
       "      <th></th>\n",
       "      <th></th>\n",
       "      <th></th>\n",
       "      <th></th>\n",
       "      <th></th>\n",
       "      <th></th>\n",
       "    </tr>\n",
       "  </thead>\n",
       "  <tbody>\n",
       "    <tr>\n",
       "      <th>Coal</th>\n",
       "      <td>443.7634</td>\n",
       "      <td>10551.2101</td>\n",
       "      <td>1648.4462</td>\n",
       "      <td>182.7798</td>\n",
       "      <td>1848.5108</td>\n",
       "      <td>184.9079</td>\n",
       "      <td>118.337300</td>\n",
       "    </tr>\n",
       "    <tr>\n",
       "      <th>Oil</th>\n",
       "      <td>489.8935</td>\n",
       "      <td>3230.1027</td>\n",
       "      <td>1795.5794</td>\n",
       "      <td>1086.5916</td>\n",
       "      <td>2774.2560</td>\n",
       "      <td>145.8208</td>\n",
       "      <td>845.963700</td>\n",
       "    </tr>\n",
       "    <tr>\n",
       "      <th>Gas</th>\n",
       "      <td>229.5443</td>\n",
       "      <td>1426.6821</td>\n",
       "      <td>1803.5072</td>\n",
       "      <td>954.8333</td>\n",
       "      <td>1806.5152</td>\n",
       "      <td>76.9368</td>\n",
       "      <td>334.871100</td>\n",
       "    </tr>\n",
       "    <tr>\n",
       "      <th>Gas flaring</th>\n",
       "      <td>53.3991</td>\n",
       "      <td>34.5633</td>\n",
       "      <td>43.9192</td>\n",
       "      <td>58.4321</td>\n",
       "      <td>25.5794</td>\n",
       "      <td>3.2467</td>\n",
       "      <td>31.008464</td>\n",
       "    </tr>\n",
       "    <tr>\n",
       "      <th>Cement</th>\n",
       "      <td>78.0755</td>\n",
       "      <td>1561.7631</td>\n",
       "      <td>111.2652</td>\n",
       "      <td>133.5251</td>\n",
       "      <td>62.6906</td>\n",
       "      <td>4.2082</td>\n",
       "      <td>69.634700</td>\n",
       "    </tr>\n",
       "  </tbody>\n",
       "</table>\n",
       "</div>"
      ],
      "text/plain": [
       "               Africa        Asia     Europe  Middle East  North America  \\\n",
       "Source                                                                     \n",
       "Coal         443.7634  10551.2101  1648.4462     182.7798      1848.5108   \n",
       "Oil          489.8935   3230.1027  1795.5794    1086.5916      2774.2560   \n",
       "Gas          229.5443   1426.6821  1803.5072     954.8333      1806.5152   \n",
       "Gas flaring   53.3991     34.5633    43.9192      58.4321        25.5794   \n",
       "Cement        78.0755   1561.7631   111.2652     133.5251        62.6906   \n",
       "\n",
       "              Oceania  South and Central America  \n",
       "Source                                            \n",
       "Coal         184.9079                 118.337300  \n",
       "Oil          145.8208                 845.963700  \n",
       "Gas           76.9368                 334.871100  \n",
       "Gas flaring    3.2467                  31.008464  \n",
       "Cement         4.2082                  69.634700  "
      ]
     },
     "execution_count": 5,
     "metadata": {},
     "output_type": "execute_result"
    }
   ],
   "source": [
    "df['South and Central America'] = df['South America'] + df['Central America']\n",
    "del df['South America'], df['Central America']\n",
    "# drop all countries + others, only keep regions: Africa, Asia, ... \n",
    "df.drop(World + Others, axis=1)"
   ]
  },
  {
   "cell_type": "code",
   "execution_count": 6,
   "metadata": {
    "collapsed": false
   },
   "outputs": [
    {
     "data": {
      "text/plain": [
       "Africa                        1294.675800\n",
       "Asia                         16804.321300\n",
       "Europe                        5402.717200\n",
       "Middle East                   2416.161900\n",
       "North America                 6517.552000\n",
       "Oceania                        415.120400\n",
       "South and Central America     1399.815264\n",
       "dtype: float64"
      ]
     },
     "execution_count": 6,
     "metadata": {},
     "output_type": "execute_result"
    }
   ],
   "source": [
    "df.drop(World + Others, axis=1).sum()"
   ]
  },
  {
   "cell_type": "code",
   "execution_count": 7,
   "metadata": {
    "collapsed": false
   },
   "outputs": [
    {
     "name": "stdout",
     "output_type": "stream",
     "text": [
      "Africa                         1294.6755\n",
      "Asia                           16804.3213\n",
      "Europe                         5402.7172\n",
      "Middle East                    2416.1616\n",
      "North America                  6517.5521\n",
      "Oceania                         415.1202\n",
      "South and Central America      1399.8150\n"
     ]
    }
   ],
   "source": [
    "# display sum of all countries for all sources that form regions\n",
    "for region in Regions:\n",
    "    print '%-30s %9.4f' %(region, df[Regions[region]].sum().sum())"
   ]
  },
  {
   "cell_type": "markdown",
   "metadata": {},
   "source": [
    "Same as above ! So integrated regions are the same as integrated regions made from countries."
   ]
  },
  {
   "cell_type": "code",
   "execution_count": 8,
   "metadata": {
    "collapsed": false
   },
   "outputs": [
    {
     "ename": "AttributeError",
     "evalue": "'Series' object has no attribute 'sort_values'",
     "output_type": "error",
     "traceback": [
      "\u001b[1;31m---------------------------------------------------------------------------\u001b[0m",
      "\u001b[1;31mAttributeError\u001b[0m                            Traceback (most recent call last)",
      "\u001b[1;32m<ipython-input-8-16ed2cc0d762>\u001b[0m in \u001b[0;36m<module>\u001b[1;34m()\u001b[0m\n\u001b[0;32m      1\u001b[0m \u001b[1;31m# try an Others category bellow a threshold\u001b[0m\u001b[1;33m\u001b[0m\u001b[1;33m\u001b[0m\u001b[0m\n\u001b[1;32m----> 2\u001b[1;33m \u001b[0ma\u001b[0m \u001b[1;33m=\u001b[0m \u001b[0mdf\u001b[0m\u001b[1;33m[\u001b[0m\u001b[0mRegions\u001b[0m\u001b[1;33m[\u001b[0m\u001b[1;34m'Asia'\u001b[0m\u001b[1;33m]\u001b[0m\u001b[1;33m]\u001b[0m\u001b[1;33m.\u001b[0m\u001b[0msum\u001b[0m\u001b[1;33m(\u001b[0m\u001b[1;33m)\u001b[0m\u001b[1;33m.\u001b[0m\u001b[0msort_values\u001b[0m\u001b[1;33m(\u001b[0m\u001b[0mascending\u001b[0m\u001b[1;33m=\u001b[0m\u001b[0mFalse\u001b[0m\u001b[1;33m)\u001b[0m\u001b[1;33m\u001b[0m\u001b[0m\n\u001b[0m\u001b[0;32m      3\u001b[0m \u001b[0mb\u001b[0m \u001b[1;33m=\u001b[0m \u001b[0ma\u001b[0m\u001b[1;33m[\u001b[0m\u001b[0ma\u001b[0m \u001b[1;33m>\u001b[0m \u001b[1;36m1\u001b[0m\u001b[1;33m]\u001b[0m\u001b[1;33m.\u001b[0m\u001b[0mhead\u001b[0m\u001b[1;33m(\u001b[0m\u001b[1;36m10\u001b[0m\u001b[1;33m)\u001b[0m     \u001b[1;31m# keep max 10 largest and > 1\u001b[0m\u001b[1;33m\u001b[0m\u001b[0m\n\u001b[0;32m      4\u001b[0m \u001b[0mb\u001b[0m\u001b[1;33m[\u001b[0m\u001b[1;34m'Others'\u001b[0m\u001b[1;33m]\u001b[0m \u001b[1;33m=\u001b[0m \u001b[0ma\u001b[0m\u001b[1;33m[\u001b[0m\u001b[1;33m~\u001b[0m \u001b[0ma\u001b[0m\u001b[1;33m.\u001b[0m\u001b[0misin\u001b[0m\u001b[1;33m(\u001b[0m\u001b[0mb\u001b[0m\u001b[1;33m)\u001b[0m\u001b[1;33m]\u001b[0m\u001b[1;33m.\u001b[0m\u001b[0msum\u001b[0m\u001b[1;33m(\u001b[0m\u001b[1;33m)\u001b[0m   \u001b[1;31m#\u001b[0m\u001b[1;33m\u001b[0m\u001b[0m\n\u001b[0;32m      5\u001b[0m \u001b[1;32mprint\u001b[0m \u001b[0mb\u001b[0m\u001b[1;33m\u001b[0m\u001b[0m\n",
      "\u001b[1;32m/usr/lib64/python2.7/site-packages/pandas/core/generic.pyc\u001b[0m in \u001b[0;36m__getattr__\u001b[1;34m(self, name)\u001b[0m\n\u001b[0;32m   2148\u001b[0m                 \u001b[1;32mreturn\u001b[0m \u001b[0mself\u001b[0m\u001b[1;33m[\u001b[0m\u001b[0mname\u001b[0m\u001b[1;33m]\u001b[0m\u001b[1;33m\u001b[0m\u001b[0m\n\u001b[0;32m   2149\u001b[0m             raise AttributeError(\"'%s' object has no attribute '%s'\" %\n\u001b[1;32m-> 2150\u001b[1;33m                                  (type(self).__name__, name))\n\u001b[0m\u001b[0;32m   2151\u001b[0m \u001b[1;33m\u001b[0m\u001b[0m\n\u001b[0;32m   2152\u001b[0m     \u001b[1;32mdef\u001b[0m \u001b[0m__setattr__\u001b[0m\u001b[1;33m(\u001b[0m\u001b[0mself\u001b[0m\u001b[1;33m,\u001b[0m \u001b[0mname\u001b[0m\u001b[1;33m,\u001b[0m \u001b[0mvalue\u001b[0m\u001b[1;33m)\u001b[0m\u001b[1;33m:\u001b[0m\u001b[1;33m\u001b[0m\u001b[0m\n",
      "\u001b[1;31mAttributeError\u001b[0m: 'Series' object has no attribute 'sort_values'"
     ]
    }
   ],
   "source": [
    "# try an Others category bellow a threshold\n",
    "a = df[Regions['Asia']].sum().sort_values(ascending=False)\n",
    "b = a[a > 1].head(10)     # keep max 10 largest and > 1\n",
    "b['Others'] = a[~ a.isin(b)].sum()   # \n",
    "print b"
   ]
  },
  {
   "cell_type": "code",
   "execution_count": 9,
   "metadata": {
    "collapsed": false
   },
   "outputs": [
    {
     "ename": "AttributeError",
     "evalue": "'Series' object has no attribute 'sort_values'",
     "output_type": "error",
     "traceback": [
      "\u001b[1;31m---------------------------------------------------------------------------\u001b[0m",
      "\u001b[1;31mAttributeError\u001b[0m                            Traceback (most recent call last)",
      "\u001b[1;32m<ipython-input-9-f1e41d210b51>\u001b[0m in \u001b[0;36m<module>\u001b[1;34m()\u001b[0m\n\u001b[0;32m      1\u001b[0m \u001b[0mCountries\u001b[0m \u001b[1;33m=\u001b[0m \u001b[0mcollections\u001b[0m\u001b[1;33m.\u001b[0m\u001b[0mOrderedDict\u001b[0m\u001b[1;33m(\u001b[0m\u001b[1;33m)\u001b[0m\u001b[1;33m\u001b[0m\u001b[0m\n\u001b[0;32m      2\u001b[0m \u001b[1;32mfor\u001b[0m \u001b[0mregion\u001b[0m \u001b[1;32min\u001b[0m \u001b[0mRegions\u001b[0m\u001b[1;33m:\u001b[0m\u001b[1;33m\u001b[0m\u001b[0m\n\u001b[1;32m----> 3\u001b[1;33m     \u001b[0ma\u001b[0m \u001b[1;33m=\u001b[0m \u001b[0mdf\u001b[0m\u001b[1;33m[\u001b[0m\u001b[0mRegions\u001b[0m\u001b[1;33m[\u001b[0m\u001b[0mregion\u001b[0m\u001b[1;33m]\u001b[0m\u001b[1;33m]\u001b[0m\u001b[1;33m.\u001b[0m\u001b[0msum\u001b[0m\u001b[1;33m(\u001b[0m\u001b[1;33m)\u001b[0m\u001b[1;33m.\u001b[0m\u001b[0msort_values\u001b[0m\u001b[1;33m(\u001b[0m\u001b[0mascending\u001b[0m\u001b[1;33m=\u001b[0m\u001b[0mFalse\u001b[0m\u001b[1;33m)\u001b[0m\u001b[1;33m\u001b[0m\u001b[0m\n\u001b[0m\u001b[0;32m      4\u001b[0m     \u001b[0mb\u001b[0m \u001b[1;33m=\u001b[0m \u001b[0ma\u001b[0m\u001b[1;33m[\u001b[0m\u001b[0ma\u001b[0m \u001b[1;33m>\u001b[0m \u001b[1;36m100\u001b[0m\u001b[1;33m]\u001b[0m     \u001b[1;31m# keep > threshold\u001b[0m\u001b[1;33m\u001b[0m\u001b[0m\n\u001b[0;32m      5\u001b[0m     \u001b[1;32mprint\u001b[0m \u001b[1;34m'----'\u001b[0m\u001b[1;33m,\u001b[0m \u001b[0mregion\u001b[0m\u001b[1;33m\u001b[0m\u001b[0m\n",
      "\u001b[1;32m/usr/lib64/python2.7/site-packages/pandas/core/generic.pyc\u001b[0m in \u001b[0;36m__getattr__\u001b[1;34m(self, name)\u001b[0m\n\u001b[0;32m   2148\u001b[0m                 \u001b[1;32mreturn\u001b[0m \u001b[0mself\u001b[0m\u001b[1;33m[\u001b[0m\u001b[0mname\u001b[0m\u001b[1;33m]\u001b[0m\u001b[1;33m\u001b[0m\u001b[0m\n\u001b[0;32m   2149\u001b[0m             raise AttributeError(\"'%s' object has no attribute '%s'\" %\n\u001b[1;32m-> 2150\u001b[1;33m                                  (type(self).__name__, name))\n\u001b[0m\u001b[0;32m   2151\u001b[0m \u001b[1;33m\u001b[0m\u001b[0m\n\u001b[0;32m   2152\u001b[0m     \u001b[1;32mdef\u001b[0m \u001b[0m__setattr__\u001b[0m\u001b[1;33m(\u001b[0m\u001b[0mself\u001b[0m\u001b[1;33m,\u001b[0m \u001b[0mname\u001b[0m\u001b[1;33m,\u001b[0m \u001b[0mvalue\u001b[0m\u001b[1;33m)\u001b[0m\u001b[1;33m:\u001b[0m\u001b[1;33m\u001b[0m\u001b[0m\n",
      "\u001b[1;31mAttributeError\u001b[0m: 'Series' object has no attribute 'sort_values'"
     ]
    }
   ],
   "source": [
    "Countries = collections.OrderedDict()\n",
    "for region in Regions:\n",
    "    a = df[Regions[region]].sum().sort_values(ascending=False)\n",
    "    b = a[a > 100]     # keep > threshold\n",
    "    print '----', region\n",
    "    print b\n",
    "    Countries[region]=b"
   ]
  },
  {
   "cell_type": "code",
   "execution_count": 10,
   "metadata": {
    "collapsed": false
   },
   "outputs": [
    {
     "data": {
      "text/plain": [
       "10551.20997"
      ]
     },
     "execution_count": 10,
     "metadata": {},
     "output_type": "execute_result"
    }
   ],
   "source": [
    "df[Regions['Asia']].sum(axis=1)['Coal']"
   ]
  },
  {
   "cell_type": "code",
   "execution_count": 11,
   "metadata": {
    "collapsed": false
   },
   "outputs": [
    {
     "data": {
      "text/plain": [
       "['Coal',\n",
       " 'Oil',\n",
       " 'Gas',\n",
       " 'Gas flaring',\n",
       " 'Cement',\n",
       " 'Africa',\n",
       " 'Asia',\n",
       " 'Europe',\n",
       " 'Middle East',\n",
       " 'North America',\n",
       " 'Oceania',\n",
       " 'South and Central America']"
      ]
     },
     "execution_count": 11,
     "metadata": {},
     "output_type": "execute_result"
    }
   ],
   "source": [
    "Sources.keys()+Regions.keys()"
   ]
  },
  {
   "cell_type": "code",
   "execution_count": 12,
   "metadata": {
    "collapsed": false
   },
   "outputs": [],
   "source": [
    "withCountries = False    # 2 or 3 levels for the Sankey\n",
    "\n",
    "file = open('emissions_2levels.json', 'w')\n",
    "\n",
    "# nodes\n",
    "file.write('{\\n')\n",
    "file.write('\"nodes\": [\\n')\n",
    "for node in Sources.keys()+Regions.keys():\n",
    "    file.write('{\"name\": \"%s\"},\\n' %(node))\n",
    "if withCountries:\n",
    "    # loop over contries with same order as Region level displayed\n",
    "    for region in ['Asia','Africa','Europe','North America','Oceania','Middle East','South and Central America']:\n",
    "    #for region in Countries.keys():\n",
    "        for country in Countries[region].keys():\n",
    "            file.write('{\"name\": \"%s\"},\\n' %(country))\n",
    "# remove last comma\n",
    "file.seek(-2, os.SEEK_END)\n",
    "file.truncate()\n",
    "file.write('\\n],\\n')\n",
    "\n",
    "# links\n",
    "file.write('\"links\": [\\n')\n",
    "for source in Sources.keys():\n",
    "    for region in Regions.keys():\n",
    "        file.write('{\"source\": \"%s\", \"target\": \"%s\", \"value\": \"%.2f\"},\\n' \n",
    "                       %(source, region, df[Regions[region]].sum(axis=1)[source]))\n",
    "if withCountries:\n",
    "    for region in Countries.keys():\n",
    "        for country in Countries[region].keys():\n",
    "            file.write('{\"source\": \"%s\", \"target\": \"%s\", \"value\": \"%.2f\"},\\n' \n",
    "                            %(region, country, Countries[region][country]))\n",
    "# remove last comma\n",
    "file.seek(-2, os.SEEK_END)\n",
    "file.truncate()\n",
    "file.write('\\n]\\n')\n",
    "file.write('}\\n')\n",
    "\n",
    "file.close()"
   ]
  },
  {
   "cell_type": "code",
   "execution_count": 176,
   "metadata": {
    "collapsed": false,
    "scrolled": true
   },
   "outputs": [],
   "source": []
  },
  {
   "cell_type": "code",
   "execution_count": 177,
   "metadata": {
    "collapsed": true
   },
   "outputs": [],
   "source": []
  },
  {
   "cell_type": "code",
   "execution_count": null,
   "metadata": {
    "collapsed": true
   },
   "outputs": [],
   "source": []
  }
 ],
 "metadata": {
  "kernelspec": {
   "display_name": "Python 2",
   "language": "python",
   "name": "python2"
  },
  "language_info": {
   "codemirror_mode": {
    "name": "ipython",
    "version": 2
   },
   "file_extension": ".py",
   "mimetype": "text/x-python",
   "name": "python",
   "nbconvert_exporter": "python",
   "pygments_lexer": "ipython2",
   "version": "2.7.10"
  }
 },
 "nbformat": 4,
 "nbformat_minor": 0
}

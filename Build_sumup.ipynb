{
 "cells": [
  {
   "cell_type": "code",
   "execution_count": 12,
   "metadata": {
    "collapsed": true
   },
   "outputs": [],
   "source": [
    "import pandas as pd\n",
    "import os\n",
    "import collections"
   ]
  },
  {
   "cell_type": "code",
   "execution_count": 13,
   "metadata": {
    "collapsed": true
   },
   "outputs": [],
   "source": [
    "dict_files = collections.OrderedDict()\n",
    "dict_files['Coal'] = 'coal.csv'\n",
    "dict_files['Gas']='gas.csv'\n",
    "dict_files['Gas flaring']='flaring.csv'\n",
    "dict_files['Cement']='cement.csv'\n",
    "dict_files['Oil']='oil.csv'                \n",
    "list_fields = ['Africa', 'Asia', 'Central America', 'Europe', 'Middle East', 'North America', 'Oceania', 'South America']\n",
    "year = 2014"
   ]
  },
  {
   "cell_type": "code",
   "execution_count": 14,
   "metadata": {
    "collapsed": false
   },
   "outputs": [
    {
     "data": {
      "text/html": [
       "<div>\n",
       "<table border=\"1\" class=\"dataframe\">\n",
       "  <thead>\n",
       "    <tr style=\"text-align: right;\">\n",
       "      <th></th>\n",
       "      <th>Africa</th>\n",
       "      <th>Asia</th>\n",
       "      <th>Central America</th>\n",
       "      <th>Europe</th>\n",
       "      <th>Middle East</th>\n",
       "      <th>North America</th>\n",
       "      <th>Oceania</th>\n",
       "      <th>South America</th>\n",
       "    </tr>\n",
       "    <tr>\n",
       "      <th>Source</th>\n",
       "      <th></th>\n",
       "      <th></th>\n",
       "      <th></th>\n",
       "      <th></th>\n",
       "      <th></th>\n",
       "      <th></th>\n",
       "      <th></th>\n",
       "      <th></th>\n",
       "    </tr>\n",
       "  </thead>\n",
       "  <tbody>\n",
       "    <tr>\n",
       "      <th>Coal</th>\n",
       "      <td>443.7634</td>\n",
       "      <td>10551.2101</td>\n",
       "      <td>7.252400</td>\n",
       "      <td>1648.4462</td>\n",
       "      <td>182.7798</td>\n",
       "      <td>1848.5108</td>\n",
       "      <td>184.9079</td>\n",
       "      <td>111.0849</td>\n",
       "    </tr>\n",
       "    <tr>\n",
       "      <th>Gas</th>\n",
       "      <td>229.5443</td>\n",
       "      <td>1426.6821</td>\n",
       "      <td>47.077200</td>\n",
       "      <td>1803.5072</td>\n",
       "      <td>954.8333</td>\n",
       "      <td>1806.5152</td>\n",
       "      <td>76.9368</td>\n",
       "      <td>287.7939</td>\n",
       "    </tr>\n",
       "    <tr>\n",
       "      <th>Gas flaring</th>\n",
       "      <td>53.3991</td>\n",
       "      <td>34.5633</td>\n",
       "      <td>0.003664</td>\n",
       "      <td>43.9192</td>\n",
       "      <td>58.4321</td>\n",
       "      <td>25.5794</td>\n",
       "      <td>3.2467</td>\n",
       "      <td>31.0048</td>\n",
       "    </tr>\n",
       "    <tr>\n",
       "      <th>Cement</th>\n",
       "      <td>78.0755</td>\n",
       "      <td>1561.7631</td>\n",
       "      <td>7.332600</td>\n",
       "      <td>111.2652</td>\n",
       "      <td>133.5251</td>\n",
       "      <td>62.6906</td>\n",
       "      <td>4.2082</td>\n",
       "      <td>62.3021</td>\n",
       "    </tr>\n",
       "    <tr>\n",
       "      <th>Oil</th>\n",
       "      <td>489.8935</td>\n",
       "      <td>3230.1027</td>\n",
       "      <td>124.503700</td>\n",
       "      <td>1795.5794</td>\n",
       "      <td>1086.5916</td>\n",
       "      <td>2774.2560</td>\n",
       "      <td>145.8208</td>\n",
       "      <td>721.4600</td>\n",
       "    </tr>\n",
       "  </tbody>\n",
       "</table>\n",
       "</div>"
      ],
      "text/plain": [
       "               Africa        Asia  Central America     Europe  Middle East  \\\n",
       "Source                                                                       \n",
       "Coal         443.7634  10551.2101         7.252400  1648.4462     182.7798   \n",
       "Gas          229.5443   1426.6821        47.077200  1803.5072     954.8333   \n",
       "Gas flaring   53.3991     34.5633         0.003664    43.9192      58.4321   \n",
       "Cement        78.0755   1561.7631         7.332600   111.2652     133.5251   \n",
       "Oil          489.8935   3230.1027       124.503700  1795.5794    1086.5916   \n",
       "\n",
       "             North America   Oceania  South America  \n",
       "Source                                               \n",
       "Coal             1848.5108  184.9079       111.0849  \n",
       "Gas              1806.5152   76.9368       287.7939  \n",
       "Gas flaring        25.5794    3.2467        31.0048  \n",
       "Cement             62.6906    4.2082        62.3021  \n",
       "Oil              2774.2560  145.8208       721.4600  "
      ]
     },
     "execution_count": 14,
     "metadata": {},
     "output_type": "execute_result"
    }
   ],
   "source": [
    "# Read all csv files and create a dataframe from selected year and selected fields\n",
    "df = pd.DataFrame()\n",
    "for key in dict_files.keys():\n",
    "    df_full = pd.read_csv('files_csv/' + dict_files[key], delimiter=';', index_col=0)\n",
    "    df_select = df_full.loc[year][list_fields]\n",
    "    df_select['Source'] = key\n",
    "    df = df.append(df_select)\n",
    "df.set_index('Source', inplace=True)\n",
    "df"
   ]
  },
  {
   "cell_type": "code",
   "execution_count": 4,
   "metadata": {
    "collapsed": false
   },
   "outputs": [
    {
     "data": {
      "text/html": [
       "<div>\n",
       "<table border=\"1\" class=\"dataframe\">\n",
       "  <thead>\n",
       "    <tr style=\"text-align: right;\">\n",
       "      <th></th>\n",
       "      <th>Africa</th>\n",
       "      <th>Asia</th>\n",
       "      <th>Central America</th>\n",
       "      <th>Europe</th>\n",
       "      <th>Middle East</th>\n",
       "      <th>North America</th>\n",
       "      <th>Oceania</th>\n",
       "      <th>South America</th>\n",
       "      <th>South and Central America</th>\n",
       "    </tr>\n",
       "    <tr>\n",
       "      <th>Source</th>\n",
       "      <th></th>\n",
       "      <th></th>\n",
       "      <th></th>\n",
       "      <th></th>\n",
       "      <th></th>\n",
       "      <th></th>\n",
       "      <th></th>\n",
       "      <th></th>\n",
       "      <th></th>\n",
       "    </tr>\n",
       "  </thead>\n",
       "  <tbody>\n",
       "    <tr>\n",
       "      <th>Coal</th>\n",
       "      <td>443.7634</td>\n",
       "      <td>10551.2101</td>\n",
       "      <td>7.252400</td>\n",
       "      <td>1648.4462</td>\n",
       "      <td>182.7798</td>\n",
       "      <td>1848.5108</td>\n",
       "      <td>184.9079</td>\n",
       "      <td>111.0849</td>\n",
       "      <td>118.337300</td>\n",
       "    </tr>\n",
       "    <tr>\n",
       "      <th>Gas</th>\n",
       "      <td>229.5443</td>\n",
       "      <td>1426.6821</td>\n",
       "      <td>47.077200</td>\n",
       "      <td>1803.5072</td>\n",
       "      <td>954.8333</td>\n",
       "      <td>1806.5152</td>\n",
       "      <td>76.9368</td>\n",
       "      <td>287.7939</td>\n",
       "      <td>334.871100</td>\n",
       "    </tr>\n",
       "    <tr>\n",
       "      <th>Gas flaring</th>\n",
       "      <td>53.3991</td>\n",
       "      <td>34.5633</td>\n",
       "      <td>0.003664</td>\n",
       "      <td>43.9192</td>\n",
       "      <td>58.4321</td>\n",
       "      <td>25.5794</td>\n",
       "      <td>3.2467</td>\n",
       "      <td>31.0048</td>\n",
       "      <td>31.008464</td>\n",
       "    </tr>\n",
       "    <tr>\n",
       "      <th>Cement</th>\n",
       "      <td>78.0755</td>\n",
       "      <td>1561.7631</td>\n",
       "      <td>7.332600</td>\n",
       "      <td>111.2652</td>\n",
       "      <td>133.5251</td>\n",
       "      <td>62.6906</td>\n",
       "      <td>4.2082</td>\n",
       "      <td>62.3021</td>\n",
       "      <td>69.634700</td>\n",
       "    </tr>\n",
       "    <tr>\n",
       "      <th>Oil</th>\n",
       "      <td>489.8935</td>\n",
       "      <td>3230.1027</td>\n",
       "      <td>124.503700</td>\n",
       "      <td>1795.5794</td>\n",
       "      <td>1086.5916</td>\n",
       "      <td>2774.2560</td>\n",
       "      <td>145.8208</td>\n",
       "      <td>721.4600</td>\n",
       "      <td>845.963700</td>\n",
       "    </tr>\n",
       "  </tbody>\n",
       "</table>\n",
       "</div>"
      ],
      "text/plain": [
       "               Africa        Asia  Central America     Europe  Middle East  \\\n",
       "Source                                                                       \n",
       "Coal         443.7634  10551.2101         7.252400  1648.4462     182.7798   \n",
       "Gas          229.5443   1426.6821        47.077200  1803.5072     954.8333   \n",
       "Gas flaring   53.3991     34.5633         0.003664    43.9192      58.4321   \n",
       "Cement        78.0755   1561.7631         7.332600   111.2652     133.5251   \n",
       "Oil          489.8935   3230.1027       124.503700  1795.5794    1086.5916   \n",
       "\n",
       "             North America   Oceania  South America  South and Central America  \n",
       "Source                                                                          \n",
       "Coal             1848.5108  184.9079       111.0849                 118.337300  \n",
       "Gas              1806.5152   76.9368       287.7939                 334.871100  \n",
       "Gas flaring        25.5794    3.2467        31.0048                  31.008464  \n",
       "Cement             62.6906    4.2082        62.3021                  69.634700  \n",
       "Oil              2774.2560  145.8208       721.4600                 845.963700  "
      ]
     },
     "execution_count": 4,
     "metadata": {},
     "output_type": "execute_result"
    }
   ],
   "source": [
    "df['South and Central America'] = df['South America'] + df['Central America']\n",
    "df"
   ]
  },
  {
   "cell_type": "code",
   "execution_count": 5,
   "metadata": {
    "collapsed": false
   },
   "outputs": [
    {
     "data": {
      "text/plain": [
       "Africa                        229.5443\n",
       "Asia                         1426.6821\n",
       "Central America                47.0772\n",
       "Europe                       1803.5072\n",
       "Middle East                   954.8333\n",
       "North America                1806.5152\n",
       "Oceania                        76.9368\n",
       "South America                 287.7939\n",
       "South and Central America     334.8711\n",
       "Name: Gas, dtype: float64"
      ]
     },
     "execution_count": 5,
     "metadata": {},
     "output_type": "execute_result"
    }
   ],
   "source": [
    "df.loc['Gas']"
   ]
  },
  {
   "cell_type": "code",
   "execution_count": 6,
   "metadata": {
    "collapsed": false
   },
   "outputs": [
    {
     "data": {
      "text/plain": [
       "Source\n",
       "Coal           10551.2101\n",
       "Gas             1426.6821\n",
       "Gas flaring       34.5633\n",
       "Cement          1561.7631\n",
       "Oil             3230.1027\n",
       "Name: Asia, dtype: float64"
      ]
     },
     "execution_count": 6,
     "metadata": {},
     "output_type": "execute_result"
    }
   ],
   "source": [
    "df['Asia']"
   ]
  },
  {
   "cell_type": "code",
   "execution_count": 7,
   "metadata": {
    "collapsed": false
   },
   "outputs": [
    {
     "data": {
      "text/plain": [
       "1426.6821"
      ]
     },
     "execution_count": 7,
     "metadata": {},
     "output_type": "execute_result"
    }
   ],
   "source": [
    "df.loc['Gas','Asia']"
   ]
  },
  {
   "cell_type": "code",
   "execution_count": 8,
   "metadata": {
    "collapsed": false
   },
   "outputs": [
    {
     "data": {
      "text/plain": [
       "Index([u'Coal', u'Gas', u'Gas flaring', u'Cement', u'Oil'], dtype='object', name=u'Source')"
      ]
     },
     "execution_count": 8,
     "metadata": {},
     "output_type": "execute_result"
    }
   ],
   "source": [
    "sources = df.index\n",
    "sources"
   ]
  },
  {
   "cell_type": "code",
   "execution_count": 9,
   "metadata": {
    "collapsed": false,
    "scrolled": true
   },
   "outputs": [
    {
     "data": {
      "text/plain": [
       "Index([u'Africa', u'Asia', u'Europe', u'Middle East', u'North America',\n",
       "       u'Oceania', u'South and Central America'],\n",
       "      dtype='object')"
      ]
     },
     "execution_count": 9,
     "metadata": {},
     "output_type": "execute_result"
    }
   ],
   "source": [
    "regions = df.columns\n",
    "regions = regions.drop(['Central America','South America'])  # We have summed the both\n",
    "regions"
   ]
  },
  {
   "cell_type": "code",
   "execution_count": 10,
   "metadata": {
    "collapsed": false
   },
   "outputs": [
    {
     "data": {
      "text/plain": [
       "['Coal',\n",
       " 'Gas',\n",
       " 'Gas flaring',\n",
       " 'Cement',\n",
       " 'Oil',\n",
       " 'Africa',\n",
       " 'Asia',\n",
       " 'Europe',\n",
       " 'Middle East',\n",
       " 'North America',\n",
       " 'Oceania',\n",
       " 'South and Central America']"
      ]
     },
     "execution_count": 10,
     "metadata": {},
     "output_type": "execute_result"
    }
   ],
   "source": [
    "nodes = sources.tolist() + regions.tolist()\n",
    "nodes"
   ]
  },
  {
   "cell_type": "code",
   "execution_count": 11,
   "metadata": {
    "collapsed": false
   },
   "outputs": [],
   "source": [
    "file = open('emissions.json', 'w')\n",
    "\n",
    "file.write('{\\n')\n",
    "file.write('\"nodes\": [\\n')\n",
    "for node in nodes:\n",
    "    file.write('{\"name\": \"%s\"},\\n' %(node))\n",
    "# remove last comma\n",
    "file.seek(-2, os.SEEK_END)\n",
    "file.truncate()\n",
    "file.write('\\n],\\n')\n",
    "\n",
    "file.write('\"links\": [\\n')\n",
    "for source in sources:\n",
    "    for region in regions:\n",
    "        file.write('{\"source\": \"%s\", \"target\": \"%s\", \"value\": \"%.2f\"},\\n' %(source, region, df[region][source]))\n",
    "# remove last comma\n",
    "file.seek(-2, os.SEEK_END)\n",
    "file.truncate()\n",
    "file.write('\\n]\\n')\n",
    "file.write('}\\n')\n",
    "\n",
    "file.close()"
   ]
  },
  {
   "cell_type": "code",
   "execution_count": null,
   "metadata": {
    "collapsed": false,
    "scrolled": true
   },
   "outputs": [],
   "source": []
  },
  {
   "cell_type": "code",
   "execution_count": null,
   "metadata": {
    "collapsed": true
   },
   "outputs": [],
   "source": []
  },
  {
   "cell_type": "code",
   "execution_count": null,
   "metadata": {
    "collapsed": true
   },
   "outputs": [],
   "source": []
  }
 ],
 "metadata": {
  "kernelspec": {
   "display_name": "Python 2",
   "language": "python",
   "name": "python2"
  },
  "language_info": {
   "codemirror_mode": {
    "name": "ipython",
    "version": 2
   },
   "file_extension": ".py",
   "mimetype": "text/x-python",
   "name": "python",
   "nbconvert_exporter": "python",
   "pygments_lexer": "ipython2",
   "version": "2.7.10"
  }
 },
 "nbformat": 4,
 "nbformat_minor": 0
}
